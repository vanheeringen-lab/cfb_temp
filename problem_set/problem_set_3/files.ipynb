{
 "cells": [
  {
   "cell_type": "markdown",
   "metadata": {},
   "source": [
    "Before you turn this problem in, make sure everything runs as expected. First, **restart the kernel** (in the menubar, select Kernel$\\rightarrow$Restart) and then **run all cells** (in the menubar, select Cell$\\rightarrow$Run All).\n",
    "\n",
    "Make sure you fill in any place that says `YOUR CODE HERE` or \"YOUR ANSWER HERE\". When you see a line with `YOUR CODE HERE`, you have to remove the line `raise NotImplementedError()`. \n",
    "\n",
    "Note that you cannot edit any of the other cells.\n",
    "\n",
    "Fill in your name and student number below:"
   ]
  },
  {
   "cell_type": "code",
   "execution_count": null,
   "metadata": {},
   "outputs": [],
   "source": [
    "NAME = \"\"\n",
    "STUDENT_NUMBER = \"\""
   ]
  },
  {
   "cell_type": "markdown",
   "metadata": {},
   "source": [
    "---"
   ]
  },
  {
   "cell_type": "markdown",
   "metadata": {
    "deletable": false,
    "editable": false,
    "nbgrader": {
     "cell_type": "markdown",
     "checksum": "3389492c41a60f43828ebe30c5b874b4",
     "grade": false,
     "grade_id": "cell-113f6bc22454f338",
     "locked": true,
     "schema_version": 3,
     "solution": false,
     "task": false
    }
   },
   "source": [
    "**Exercise 8.1**\n",
    "\n",
    "Write a function called `top_kmers()`. The function should have three arguments: `fname`, `k`, `n_top`. The `fname` represents the FASTA filename, `k` the length of the k-mer and `n_top` the number of most abundant k-mers to return. The function should not print the k-mers, but return them as a list. The `k` and `n_top` arguments should be *optional*, with default values of 8 and 10, respectively.\n",
    "\n",
    "**Note:** this problem set exercise has the following **extra** requirements:\n",
    "\n",
    "* This function should ignore all FASTA file lines starting with `>`. \n",
    "* This function should return *exactly* `n_top` k-mers. If there are multiple k-mers that tie for the same place you are free to choose whichever way you like (alphabetical, first in the dictionary, etc.)\n",
    "* The k-mers should be all *upper-case*.\n"
   ]
  },
  {
   "cell_type": "code",
   "execution_count": null,
   "metadata": {
    "deletable": false,
    "nbgrader": {
     "cell_type": "code",
     "checksum": "33451aff3ee439e3b6f688759db1f9d0",
     "grade": false,
     "grade_id": "cell-f0beb59c46301c33",
     "locked": false,
     "schema_version": 3,
     "solution": true,
     "task": false
    }
   },
   "outputs": [],
   "source": [
    "# YOUR CODE HERE\n",
    "raise NotImplementedError()"
   ]
  },
  {
   "cell_type": "code",
   "execution_count": null,
   "metadata": {
    "deletable": false,
    "editable": false,
    "nbgrader": {
     "cell_type": "code",
     "checksum": "a698ee6df0a4b0943be702a2365c017a",
     "grade": true,
     "grade_id": "cell-e89fb9775084d07f",
     "locked": true,
     "points": 5,
     "schema_version": 3,
     "solution": false,
     "task": false
    }
   },
   "outputs": [],
   "source": [
    "score = 0\n",
    "fname = \"/scratch/cfb/list-dict-loop/GSM288345_ES_Nanog_mm9.peaks.fasta\"\n",
    "kmers = top_kmers(fname)\n",
    "\n",
    "try:\n",
    "    assert \"AACAATAG\" in kmers, \"AACAATAG should be the top k-mer (with 22 counts)\"\n",
    "    assert \"TCTATTGT\" in kmers, \"AACAATAG should be in the top 10 (with 20 counts)\"\n",
    "    assert \"CAAGGTCA\" in kmers, \"CAAGGTCA should be in the top 10 (with 20 counts)\"\n",
    "    assert \"TGACCTTG\" in kmers, \"TGACCTTG should be in the top 10 (with 19 counts)\"\n",
    "    score += 2\n",
    "except AssertionError as e:\n",
    "    print(str(e.args[0]))\n",
    "except Exception as e:\n",
    "    print(e)\n",
    "    \n",
    "try:\n",
    "    assert len(kmers) == 10, \"10 kmers should be returned\"\n",
    "    assert len(kmers[0]) == 8, \"kmer length should be 8\"\n",
    "    score += 1\n",
    "except AssertionError as e:\n",
    "    print(str(e.args[0]))\n",
    "except Exception as e:\n",
    "    print(e)\n",
    "\n",
    "try:\n",
    "    kmers = top_kmers(fname, 5, 20)\n",
    "    assert len(kmers) == 20, \"20 kmers should be returned\"\n",
    "    assert len(kmers[0]) == 5, \"kmer length should be 8\"\n",
    "    score += 2\n",
    "except AssertionError as e:\n",
    "    print(str(e.args[0]))\n",
    "except Exception as e:\n",
    "    print(e)\n",
    "\n",
    "if score == 0:\n",
    "    raise ValueError\n",
    "\n",
    "score"
   ]
  },
  {
   "cell_type": "code",
   "execution_count": null,
   "metadata": {
    "deletable": false,
    "editable": false,
    "nbgrader": {
     "cell_type": "code",
     "checksum": "184d296ac455153d7df81cf921c7af1b",
     "grade": true,
     "grade_id": "cell-a9e08af10a3e011b",
     "locked": true,
     "points": 4,
     "schema_version": 3,
     "solution": false,
     "task": false
    }
   },
   "outputs": [],
   "source": []
  },
  {
   "cell_type": "markdown",
   "metadata": {},
   "source": [
    "**Exercise 8.3**\n",
    "\n",
    "The file `/scratch/cfb/files/genes.txt` contains gene annotation. Each line represents one gene. The file is tab-separated and contains the following columns:\n",
    "\n",
    "```\n",
    "1 - chromosome\n",
    "2 - gene start\n",
    "3 - gene end\n",
    "4 - strand\n",
    "5 - gene name\n",
    "6 - number of exons\n",
    "7 - a comma-separated list of exon sizes\n",
    "8 - a comma-separated list of exon starts, relative to the gene start\n",
    "```\n",
    "\n",
    "Write a function called `gene2exons()` that reads the gene annotation from this file and converts it to a file with exon information. The function should accept two mandatory arguments, the `input_file` and the `output_file`. The output should be *tab-separated* and will contain 5 columns:\n",
    "\n",
    "```\n",
    "1 - chromosome\n",
    "2 - exon start\n",
    "3 - exon end\n",
    "4 - exon name: gene name followed by a . and the exon number\n",
    "5 - strand\n",
    "```\n",
    "\n",
    "For instance, for the gene SALL4 the output should look like this:\n",
    "\n",
    "```\n",
    "chr20    51782330    51784684   SALL4.1    -\n",
    "chr20    51788860    51789141   SALL4.2    -\n",
    "chr20    51790021    51792352   SALL4.3    -\n",
    "chr20    51802278    51802520   SALL4.4    -\n",
    "```\n",
    "\n",
    "The gene SALL4 has four exons, which are numbered from 1 to 4. Exon numbers are not dependent on the strand, they are numbered from low start position to high start position."
   ]
  },
  {
   "cell_type": "code",
   "execution_count": null,
   "metadata": {
    "deletable": false,
    "nbgrader": {
     "cell_type": "code",
     "checksum": "901883cfa580364d280061c215c15b07",
     "grade": false,
     "grade_id": "cell-8dc8fef0cfee5589",
     "locked": false,
     "schema_version": 3,
     "solution": true,
     "task": false
    }
   },
   "outputs": [],
   "source": [
    "# YOUR CODE HERE\n",
    "raise NotImplementedError()"
   ]
  },
  {
   "cell_type": "code",
   "execution_count": null,
   "metadata": {
    "deletable": false,
    "editable": false,
    "nbgrader": {
     "cell_type": "code",
     "checksum": "af3b5ec2e757f9dc75b06d3642ed84d2",
     "grade": true,
     "grade_id": "cell-5c3def87f913a7b2",
     "locked": true,
     "points": 6,
     "schema_version": 3,
     "solution": false,
     "task": false
    }
   },
   "outputs": [],
   "source": [
    "# Only hidden tests here!\n"
   ]
  }
 ],
 "metadata": {
  "kernelspec": {
   "display_name": "Python 3",
   "language": "python",
   "name": "python3"
  },
  "language_info": {
   "codemirror_mode": {
    "name": "ipython",
    "version": 3
   },
   "file_extension": ".py",
   "mimetype": "text/x-python",
   "name": "python",
   "nbconvert_exporter": "python",
   "pygments_lexer": "ipython3",
   "version": "3.8.5"
  }
 },
 "nbformat": 4,
 "nbformat_minor": 4
}
