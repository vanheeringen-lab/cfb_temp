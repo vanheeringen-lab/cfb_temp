{
 "cells": [
  {
   "cell_type": "markdown",
   "metadata": {},
   "source": [
    "Before you turn this problem in, make sure everything runs as expected. First, **restart the kernel** (in the menubar, select Kernel$\\rightarrow$Restart) and then **run all cells** (in the menubar, select Cell$\\rightarrow$Run All).\n",
    "\n",
    "Make sure you fill in any place that says `YOUR CODE HERE` or \"YOUR ANSWER HERE\". When you see a line with `YOUR CODE HERE`, you have to remove the line `raise NotImplementedError()`. \n",
    "\n",
    "Note that you cannot edit any of the other cells.\n",
    "\n",
    "Fill in your name and student number below:"
   ]
  },
  {
   "cell_type": "code",
   "execution_count": null,
   "metadata": {},
   "outputs": [],
   "source": [
    "NAME = \"\"\n",
    "STUDENT_NUMBER = \"\""
   ]
  },
  {
   "cell_type": "markdown",
   "metadata": {},
   "source": [
    "---"
   ]
  },
  {
   "cell_type": "markdown",
   "metadata": {
    "deletable": false,
    "editable": false,
    "nbgrader": {
     "cell_type": "markdown",
     "checksum": "072be060380e6057728d4a7de3f559ab",
     "grade": false,
     "grade_id": "cell-0b73a1964b077483",
     "locked": true,
     "schema_version": 3,
     "solution": false,
     "task": false
    }
   },
   "source": [
    "**Exercise 5.4**\n",
    "\n",
    "Adapt your function `random_sequence()` and add an optional argument `gc`, which determines the total fraction of G + C in the sequence. This means that if you call `random_sequence(length=100, gc=0.4)` that 40 out of the 100 characters of the returned string should be a G or a C. The default GC% should be 50%. Note that there are multiple solutions possible. Hint: check the following functions from the random module:\n",
    "\n",
    "* `randint()`\n",
    "* `random()`\n",
    "* `choice()`\n",
    "* `shuffle()`"
   ]
  },
  {
   "cell_type": "code",
   "execution_count": null,
   "metadata": {
    "deletable": false,
    "nbgrader": {
     "cell_type": "code",
     "checksum": "a2fcda86098ca2f56ddb9f466e0a119f",
     "grade": false,
     "grade_id": "cell-335da5463b03159e",
     "locked": false,
     "schema_version": 3,
     "solution": true,
     "task": false
    }
   },
   "outputs": [],
   "source": [
    "# YOUR CODE HERE\n",
    "raise NotImplementedError()"
   ]
  },
  {
   "cell_type": "code",
   "execution_count": null,
   "metadata": {
    "deletable": false,
    "editable": false,
    "nbgrader": {
     "cell_type": "code",
     "checksum": "2e6d3ed24c2e5a0c68ca90bf6f29e618",
     "grade": true,
     "grade_id": "cell-23f4c7434dbe893b",
     "locked": true,
     "points": 1,
     "schema_version": 3,
     "solution": false,
     "task": false
    }
   },
   "outputs": [],
   "source": [
    "# Make sure the function has the correct name and has a docstring\n",
    "import inspect\n",
    "assert ('random_sequence' in dir() and inspect.isfunction(random_sequence)), \"did you use the correct name for the function?\"\n",
    "assert random_sequence.__doc__ is not None, \"function should contain a docstring\"\n",
    "assert len(random_sequence.__doc__) > 10, \"docstring should actually contain some information\""
   ]
  },
  {
   "cell_type": "code",
   "execution_count": null,
   "metadata": {
    "deletable": false,
    "editable": false,
    "nbgrader": {
     "cell_type": "code",
     "checksum": "5cb4616af0062dd457efbbcfd4529351",
     "grade": true,
     "grade_id": "cell-952da9fc723e5505",
     "locked": true,
     "points": 1,
     "schema_version": 3,
     "solution": false,
     "task": false
    }
   },
   "outputs": [],
   "source": [
    "# Check if the function returns the right type of value\n",
    "assert random_sequence() != None, \"function should use the return statement\"\n",
    "assert random_sequence()  != type(()), \"function should return only one value\"\n",
    "assert type(random_sequence()) == type(\"\"), \"function should return a string\"\n",
    "assert type(random_sequence()) == type(\"\"), \"function should return a string\""
   ]
  },
  {
   "cell_type": "code",
   "execution_count": null,
   "metadata": {
    "deletable": false,
    "editable": false,
    "nbgrader": {
     "cell_type": "code",
     "checksum": "5b69fa56ad931162e73be6059e379be1",
     "grade": true,
     "grade_id": "cell-5b6f20caf4d7d96d",
     "locked": true,
     "points": 1,
     "schema_version": 3,
     "solution": false,
     "task": false
    }
   },
   "outputs": [],
   "source": [
    "# Other tests\n",
    "assert len(random_sequence()) == 100, \"length of returned sequence should be 100\"\n"
   ]
  },
  {
   "cell_type": "code",
   "execution_count": null,
   "metadata": {
    "deletable": false,
    "editable": false,
    "nbgrader": {
     "cell_type": "code",
     "checksum": "f053b0a0995fcb01997f4dc45fe0caca",
     "grade": true,
     "grade_id": "cell-7531143f3c24797e",
     "locked": true,
     "points": 1,
     "schema_version": 3,
     "solution": false,
     "task": false
    }
   },
   "outputs": [],
   "source": [
    "# Tests generating a random nucleotide sequence \n"
   ]
  },
  {
   "cell_type": "code",
   "execution_count": null,
   "metadata": {
    "deletable": false,
    "editable": false,
    "nbgrader": {
     "cell_type": "code",
     "checksum": "4c6c374dc39aca46d164bd1e5002f6dc",
     "grade": true,
     "grade_id": "cell-c55c0fdc193a0a4d",
     "locked": true,
     "points": 2,
     "schema_version": 3,
     "solution": false,
     "task": false
    }
   },
   "outputs": [],
   "source": [
    "# Tests generating a certain GC%\n"
   ]
  },
  {
   "cell_type": "markdown",
   "metadata": {
    "deletable": false,
    "editable": false,
    "nbgrader": {
     "cell_type": "markdown",
     "checksum": "af5bb05fb018b918cfe9ef3d7a7c2371",
     "grade": false,
     "grade_id": "cell-64f780a973d4e646",
     "locked": true,
     "schema_version": 3,
     "solution": false,
     "task": false
    }
   },
   "source": [
    "**Exercise 5.5**\n",
    "\n",
    "Write a function `list_fasta()` that returns a list of all FASTA files in a directory. The first argument to `list_fasta()` should be the directory. For this exercise you can assume that FASTA files have a `.fa`, a `.fsa` or a `.fasta` extension."
   ]
  },
  {
   "cell_type": "code",
   "execution_count": null,
   "metadata": {
    "deletable": false,
    "nbgrader": {
     "cell_type": "code",
     "checksum": "f9143a6519d419da9555fbbed70c7317",
     "grade": false,
     "grade_id": "cell-85fe92391dde7270",
     "locked": false,
     "schema_version": 3,
     "solution": true,
     "task": false
    }
   },
   "outputs": [],
   "source": [
    "# YOUR CODE HERE\n",
    "raise NotImplementedError()"
   ]
  },
  {
   "cell_type": "code",
   "execution_count": null,
   "metadata": {
    "deletable": false,
    "editable": false,
    "nbgrader": {
     "cell_type": "code",
     "checksum": "25eb212709d6299c74dd2f284fb246f6",
     "grade": true,
     "grade_id": "cell-5de8dafcaf8a525a",
     "locked": true,
     "points": 7,
     "schema_version": 3,
     "solution": false,
     "task": false
    }
   },
   "outputs": [],
   "source": [
    "# A variety of tests are run\n"
   ]
  },
  {
   "cell_type": "code",
   "execution_count": null,
   "metadata": {},
   "outputs": [],
   "source": []
  }
 ],
 "metadata": {
  "kernelspec": {
   "display_name": "Python 3",
   "language": "python",
   "name": "python3"
  },
  "language_info": {
   "codemirror_mode": {
    "name": "ipython",
    "version": 3
   },
   "file_extension": ".py",
   "mimetype": "text/x-python",
   "name": "python",
   "nbconvert_exporter": "python",
   "pygments_lexer": "ipython3",
   "version": "3.8.5"
  }
 },
 "nbformat": 4,
 "nbformat_minor": 4
}
