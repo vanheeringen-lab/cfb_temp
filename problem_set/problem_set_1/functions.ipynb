{
 "cells": [
  {
   "cell_type": "markdown",
   "metadata": {},
   "source": [
    "Before you turn this problem in, make sure everything runs as expected. First, **restart the kernel** (in the menubar, select Kernel$\\rightarrow$Restart) and then **run all cells** (in the menubar, select Cell$\\rightarrow$Run All).\n",
    "\n",
    "Make sure you fill in any place that says `YOUR CODE HERE` or \"YOUR ANSWER HERE\". When you see a line with `YOUR CODE HERE`, you have to remove the line `raise NotImplementedError()`. \n",
    "\n",
    "Note that you cannot edit any of the other cells.\n",
    "\n",
    "Fill in your name and student number below:"
   ]
  },
  {
   "cell_type": "code",
   "execution_count": null,
   "metadata": {},
   "outputs": [],
   "source": [
    "NAME = \"\"\n",
    "STUDENT_NUMBER = \"\""
   ]
  },
  {
   "cell_type": "markdown",
   "metadata": {},
   "source": [
    "---"
   ]
  },
  {
   "cell_type": "markdown",
   "metadata": {
    "deletable": false,
    "editable": false,
    "nbgrader": {
     "cell_type": "markdown",
     "checksum": "22d76254290964c094001c86a0a1ed90",
     "grade": false,
     "grade_id": "cell-7fe142b8388b9363",
     "locked": true,
     "schema_version": 3,
     "solution": false,
     "task": false
    }
   },
   "source": [
    "**Exercise 5.1**\n",
    "\n",
    "Write a function called `median()` that takes a list of numbers as an argument and returns the median as a `float` (see definition [here](https://en.wikipedia.org/wiki/Median)). \n"
   ]
  },
  {
   "cell_type": "code",
   "execution_count": null,
   "metadata": {
    "deletable": false,
    "nbgrader": {
     "cell_type": "code",
     "checksum": "3de19eb511138fe08664bb892c9d2884",
     "grade": false,
     "grade_id": "cell-f6bc997c61ab6ea8",
     "locked": false,
     "schema_version": 3,
     "solution": true,
     "task": false
    }
   },
   "outputs": [],
   "source": [
    "def median(numbers):\n",
    "    \"\"\"\n",
    "    Compute the median of a list of numbers.\n",
    "    \"\"\"\n",
    "    # YOUR CODE HERE\n",
    "    raise NotImplementedError()"
   ]
  },
  {
   "cell_type": "code",
   "execution_count": null,
   "metadata": {
    "deletable": false,
    "editable": false,
    "nbgrader": {
     "cell_type": "code",
     "checksum": "e2259d2e7a7d509dc02dec169a96725e",
     "grade": true,
     "grade_id": "cell-e6cdc2cceee6dd56",
     "locked": true,
     "points": 1,
     "schema_version": 3,
     "solution": false,
     "task": false
    }
   },
   "outputs": [],
   "source": [
    "# Make sure the function has the correct name and has a docstring\n",
    "import inspect\n",
    "assert ('median' in dir() and inspect.isfunction(median))\n",
    "assert median.__doc__ is not None\n",
    "assert len(median.__doc__) > 10"
   ]
  },
  {
   "cell_type": "code",
   "execution_count": null,
   "metadata": {
    "deletable": false,
    "editable": false,
    "nbgrader": {
     "cell_type": "code",
     "checksum": "66b4c8081bd38200b5fd0d71b9a399cb",
     "grade": true,
     "grade_id": "cell-a81d2603d70b53b9",
     "locked": true,
     "points": 1,
     "schema_version": 3,
     "solution": false,
     "task": false
    }
   },
   "outputs": [],
   "source": [
    "# Check if the function returns the right type of value\n",
    "assert median([1.0, 2.0, 3.0]) != None, \"function should use the return statement\"\n",
    "assert median([1.0, 2.0, 3.0]) != type(()), \"function should return only one value\"\n",
    "assert type(median([1.0, 2.0, 3.0])) == type(0.0), \"function should return a float\"\n",
    "assert type(median([1, 2, 3])) == type(0.0), \"function should return a float\""
   ]
  },
  {
   "cell_type": "code",
   "execution_count": null,
   "metadata": {
    "deletable": false,
    "editable": false,
    "nbgrader": {
     "cell_type": "code",
     "checksum": "0637ae39cf01ba4c42c8a71e28775aab",
     "grade": true,
     "grade_id": "cell-44f8bffd75966ad3",
     "locked": true,
     "points": 1,
     "schema_version": 3,
     "solution": false,
     "task": false
    }
   },
   "outputs": [],
   "source": [
    "# Check if the function returns the right value\n",
    "assert median([1.0, 2.0, 3.0]) == 2.0, \"median should be 2.0\"\n",
    "assert median([1.0, 3.0]) == 2.0, \"median should be 2.0\"\n",
    "assert median([1, 3, 3, 6, 7, 8, 9]), \"median should be 6.0\"\n",
    "assert median([1, 2, 3, 4, 5, 6, 8, 9]), \"median should be 4.5\""
   ]
  },
  {
   "cell_type": "code",
   "execution_count": null,
   "metadata": {
    "deletable": false,
    "editable": false,
    "nbgrader": {
     "cell_type": "code",
     "checksum": "10921631b057bc7cef3b47d8e8384339",
     "grade": true,
     "grade_id": "cell-f1e98dc72fb955d6",
     "locked": true,
     "points": 1,
     "schema_version": 3,
     "solution": false,
     "task": false
    }
   },
   "outputs": [],
   "source": [
    "# Additional tests are run when you hand in the assignment\n"
   ]
  },
  {
   "cell_type": "markdown",
   "metadata": {
    "deletable": false,
    "editable": false,
    "nbgrader": {
     "cell_type": "markdown",
     "checksum": "6e3308572abfa6e067f15c77590d49ad",
     "grade": false,
     "grade_id": "cell-3c525d38a33662c4",
     "locked": true,
     "schema_version": 3,
     "solution": false,
     "task": false
    }
   },
   "source": [
    "**Exercise 5.2**\n",
    "\n",
    "Write a function called `sequence_type()` that takes one argument, a `string`. The function should return a `string` with one of three values: `\"dna\"`, `\"protein\"` or `\"other\"`. This should depend on the input. If the input only contains A, C, T, G or N it should return `\"dna\"`. If the input contains only valid one-letter IUPAC amino acid symbols (see below) it should return `\"protein\"`. In all other cases it should return `\"other\"`. The function should work, regardless of the input being upper-case, lower-case or a mix.\n",
    "\n",
    "Note: theoretically, a sequencing consisting of A, C, G and T can be an amino acid sequence consisting of Alanines, Cysteines, Glycines and Threonines. However, you can ignore this possibility for this exercise.\n",
    "\n",
    "```\n",
    "Amino Acid Code:  Three letter Code:  Amino Acid:\n",
    "----------------  ------------------  -----------\n",
    "A.................Ala.................Alanine\n",
    "B.................Asx.................Aspartic acid or Asparagine\n",
    "C.................Cys.................Cysteine\n",
    "D.................Asp.................Aspartic Acid\n",
    "E.................Glu.................Glutamic Acid\n",
    "F.................Phe.................Phenylalanine\n",
    "G.................Gly.................Glycine\n",
    "H.................His.................Histidine\n",
    "I.................Ile.................Isoleucine\n",
    "K.................Lys.................Lysine\n",
    "L.................Leu.................Leucine\n",
    "M.................Met.................Methionine\n",
    "N.................Asn.................Asparagine\n",
    "P.................Pro.................Proline\n",
    "Q.................Gln.................Glutamine\n",
    "R.................Arg.................Arginine\n",
    "S.................Ser.................Serine\n",
    "T.................Thr.................Threonine\n",
    "V.................Val.................Valine\n",
    "W.................Trp.................Tryptophan\n",
    "X.................Xaa.................Any amino acid\n",
    "Y.................Tyr.................Tyrosine\n",
    "Z.................Glx.................Glutamine or Glutamic acid\n",
    "```"
   ]
  },
  {
   "cell_type": "code",
   "execution_count": null,
   "metadata": {
    "deletable": false,
    "nbgrader": {
     "cell_type": "code",
     "checksum": "4239d87a685c8ee5e03f68cb84089c21",
     "grade": false,
     "grade_id": "cell-dbd4ff0f03baaa8c",
     "locked": false,
     "schema_version": 3,
     "solution": true,
     "task": false
    }
   },
   "outputs": [],
   "source": [
    "# YOUR CODE HERE\n",
    "raise NotImplementedError()"
   ]
  },
  {
   "cell_type": "code",
   "execution_count": null,
   "metadata": {
    "deletable": false,
    "editable": false,
    "nbgrader": {
     "cell_type": "code",
     "checksum": "972e079f5e82c4135d6a6fc8baa35030",
     "grade": true,
     "grade_id": "cell-c584a53273381048",
     "locked": true,
     "points": 1,
     "schema_version": 3,
     "solution": false,
     "task": false
    }
   },
   "outputs": [],
   "source": [
    "# Make sure the function has the correct name and has a docstring\n",
    "import inspect\n",
    "assert ('sequence_type' in dir() and inspect.isfunction(sequence_type)), \"did you use the correct name?\"\n",
    "assert sequence_type.__doc__ is not None, \"no docstring found\"\n",
    "assert len(sequence_type.__doc__) > 10"
   ]
  },
  {
   "cell_type": "code",
   "execution_count": null,
   "metadata": {
    "deletable": false,
    "editable": false,
    "nbgrader": {
     "cell_type": "code",
     "checksum": "ae9c39b5533b645fbc07287370210f9f",
     "grade": true,
     "grade_id": "cell-0f2147baf96430c4",
     "locked": true,
     "points": 1,
     "schema_version": 3,
     "solution": false,
     "task": false
    }
   },
   "outputs": [],
   "source": [
    "# Check if the function returns the right type of value\n",
    "assert sequence_type(\"X\") is not None, \"function should use the return statement\"\n",
    "assert sequence_type(\"X\") != type(()), \"function should return only one value\"\n",
    "assert type(sequence_type(\"X\")) == type(\"\"), \"function should return a string\"\n"
   ]
  },
  {
   "cell_type": "code",
   "execution_count": null,
   "metadata": {
    "deletable": false,
    "editable": false,
    "nbgrader": {
     "cell_type": "code",
     "checksum": "c0dae31de1b27629ad26bcad9c17ba79",
     "grade": true,
     "grade_id": "cell-40d24286d00920c3",
     "locked": true,
     "points": 1,
     "schema_version": 3,
     "solution": false,
     "task": false
    }
   },
   "outputs": [],
   "source": [
    "# Check if the right type is returned\n",
    "assert sequence_type(\"AYD\") == \"protein\", \"function should return 'protein'\"\n",
    "assert sequence_type(\"ACTG\") == \"dna\", \"function should return 'dna'\"\n",
    "assert sequence_type(\"HELLO\") == \"other\", \"function should return 'other'\""
   ]
  },
  {
   "cell_type": "code",
   "execution_count": null,
   "metadata": {
    "deletable": false,
    "editable": false,
    "nbgrader": {
     "cell_type": "code",
     "checksum": "f9c33edfbad33f2a461f762672c51889",
     "grade": true,
     "grade_id": "cell-c2677920964b5bf8",
     "locked": true,
     "points": 0,
     "schema_version": 3,
     "solution": false,
     "task": false
    }
   },
   "outputs": [],
   "source": [
    "# Additional tests are run when you hand in the assignment"
   ]
  },
  {
   "cell_type": "code",
   "execution_count": null,
   "metadata": {},
   "outputs": [],
   "source": []
  }
 ],
 "metadata": {
  "kernelspec": {
   "display_name": "Python 3",
   "language": "python",
   "name": "python3"
  },
  "language_info": {
   "codemirror_mode": {
    "name": "ipython",
    "version": 3
   },
   "file_extension": ".py",
   "mimetype": "text/x-python",
   "name": "python",
   "nbconvert_exporter": "python",
   "pygments_lexer": "ipython3",
   "version": "3.8.5"
  }
 },
 "nbformat": 4,
 "nbformat_minor": 4
}
