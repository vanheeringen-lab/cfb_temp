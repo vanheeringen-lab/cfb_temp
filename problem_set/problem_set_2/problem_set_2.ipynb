{
 "cells": [
  {
   "cell_type": "markdown",
   "metadata": {},
   "source": [
    "Before you turn this problem in, make sure everything runs as expected. First, **restart the kernel** (in the menubar, select Kernel$\\rightarrow$Restart) and then **run all cells** (in the menubar, select Cell$\\rightarrow$Run All).\n",
    "\n",
    "Make sure you fill in any place that says `YOUR CODE HERE` or \"YOUR ANSWER HERE\". When you see a line with `YOUR CODE HERE`, you have to remove the line `raise NotImplementedError()`. \n",
    "\n",
    "Note that you cannot edit any of the other cells.\n",
    "\n",
    "Fill in your name and student number below:"
   ]
  },
  {
   "cell_type": "code",
   "execution_count": null,
   "metadata": {},
   "outputs": [],
   "source": [
    "NAME = \"\"\n",
    "STUDENT_NUMBER = \"\""
   ]
  },
  {
   "cell_type": "markdown",
   "metadata": {},
   "source": [
    "---"
   ]
  },
  {
   "cell_type": "markdown",
   "metadata": {
    "deletable": false,
    "editable": false,
    "nbgrader": {
     "cell_type": "markdown",
     "checksum": "c049c08812069fa0c996cbe0afc04638",
     "grade": false,
     "grade_id": "cell-e7b1590901c8ed9c",
     "locked": true,
     "schema_version": 3,
     "solution": false,
     "task": false
    }
   },
   "source": [
    "**Exercise 7.2: Open reading frames**\n",
    "\n",
    "Write a function `longest_orfs` that will take a DNA sequence as input and returns the protein sequence encoded by the longest ORF for all three frames. The return value should be a dictionary, with the frame number as the key and the protein sequence as the value. This means that the dictionary will have three `key:value` pairs. The three keys are `1`, `2` and `3` and the corresponding values are the longest ORF for frame 1, the longest ORF for frame 2 and the longest ORF for frame 3. \n",
    "\n",
    "The stop codon (`*` in the amino acid table) should not be included in the translation of the ORF. For this exercise an open reading frame does not need to start with an ATG, it can start with any codon, except a stop codon.\n",
    "\n",
    "For example, take the sequence `\"actgcgtagagagctggagagattaggc\"`. The translation of the full sequence for frame 1 would look like this:\n",
    "\n",
    "```\n",
    "TA*RAGEIR\n",
    "```\n",
    "\n",
    "In this example, the longest ORF is `RAGEIR`.\n",
    "\n",
    "You can re-use code that you have written for exercise 4.8 and exercise 7.1. "
   ]
  },
  {
   "cell_type": "code",
   "execution_count": null,
   "metadata": {
    "deletable": false,
    "nbgrader": {
     "cell_type": "code",
     "checksum": "234e94717fc24649869c2932b67746d1",
     "grade": false,
     "grade_id": "cell-f7c9370aa374815c",
     "locked": false,
     "schema_version": 3,
     "solution": true,
     "task": false
    }
   },
   "outputs": [],
   "source": [
    "\n",
    "# Adapt this function with your own code\n",
    "def longest_orfs(seq):\n",
    "    # YOUR CODE HERE\n",
    "    raise NotImplementedError()"
   ]
  },
  {
   "cell_type": "code",
   "execution_count": null,
   "metadata": {
    "deletable": false,
    "editable": false,
    "nbgrader": {
     "cell_type": "code",
     "checksum": "9fff2cffd6803e645717581875c4e32b",
     "grade": true,
     "grade_id": "cell-e70609ccfbddec20",
     "locked": true,
     "points": 1,
     "schema_version": 3,
     "solution": false,
     "task": false
    }
   },
   "outputs": [],
   "source": [
    "# Test simple sequence including stop codons\n",
    "seq = \"actgcgtagagagctggagagattaggc\"\n",
    "ref_result = {1: 'RAGEIR', 2: 'LRRELERLG', 3: 'CVESWRD'}\n",
    "test_result = longest_orfs(seq)\n",
    "for frame in ref_result:\n",
    "    assert test_result[frame] == ref_result[frame], f\"ORF of frame {frame} should be {ref_result[frame]}\""
   ]
  },
  {
   "cell_type": "code",
   "execution_count": null,
   "metadata": {
    "deletable": false,
    "editable": false,
    "nbgrader": {
     "cell_type": "code",
     "checksum": "454c1e10fb585af8bbe202e9935fcc62",
     "grade": true,
     "grade_id": "cell-e7fcc7e972bdff40",
     "locked": true,
     "points": 9,
     "schema_version": 3,
     "solution": false,
     "task": false
    }
   },
   "outputs": [],
   "source": [
    "# Hidden tests\n"
   ]
  },
  {
   "cell_type": "markdown",
   "metadata": {
    "deletable": false,
    "editable": false,
    "nbgrader": {
     "cell_type": "markdown",
     "checksum": "40547dfce08a5e5b351575aa5bd5a453",
     "grade": false,
     "grade_id": "cell-e469d2d1cbec8569",
     "locked": true,
     "schema_version": 3,
     "solution": false,
     "task": false
    }
   },
   "source": [
    "**Exercise 7.5: Motif conversion**\n",
    "\n",
    "Write a function `cons2pwm` that converts a consensus sequence into a positional weight matrix. The consensus sequence can be composed of symbols from the IUPAC DNA code. The function should ignore any non-IUPAC character. The positional weight matrix should be a two-dimensional list. Every element in the first list is a list containing the relative frequencies of A, C, G and T, in that specific order, that together sum up to 1.0.\n",
    "\n",
    "\n"
   ]
  },
  {
   "cell_type": "code",
   "execution_count": null,
   "metadata": {
    "deletable": false,
    "nbgrader": {
     "cell_type": "code",
     "checksum": "b458424cba448a5e5514da36b17520f9",
     "grade": false,
     "grade_id": "cell-dfe8b0355ed19e76",
     "locked": false,
     "schema_version": 3,
     "solution": true,
     "task": false
    }
   },
   "outputs": [],
   "source": [
    "# Write your function here\n",
    "\n",
    "# YOUR CODE HERE\n",
    "raise NotImplementedError()"
   ]
  },
  {
   "cell_type": "code",
   "execution_count": null,
   "metadata": {
    "deletable": false,
    "editable": false,
    "nbgrader": {
     "cell_type": "code",
     "checksum": "5d19739ba2e708e2ec8f46ac49cc004c",
     "grade": true,
     "grade_id": "cell-b95081cff4782f66",
     "locked": true,
     "points": 10,
     "schema_version": 3,
     "solution": false,
     "task": false
    }
   },
   "outputs": [],
   "source": [
    "# Hidden tests\n"
   ]
  },
  {
   "cell_type": "markdown",
   "metadata": {
    "deletable": false,
    "editable": false,
    "nbgrader": {
     "cell_type": "markdown",
     "checksum": "852dc269bd52d34e430e3b7a7fa6482c",
     "grade": false,
     "grade_id": "cell-d5de8385b22b48c0",
     "locked": true,
     "schema_version": 3,
     "solution": false,
     "task": false
    }
   },
   "source": [
    "**Exercise 7.6: Analysis of a regulatory network**\n",
    "\n",
    "For this question use the regulatory network represented in the following dictionary:\n",
    "\n",
    "```python\n",
    "hsc_network = {\n",
    "    \"Scl\" : [\"Scl\",\"Gata1\",\"Gata2\",\"Hhex\",\"Zfpm1\",\"Fli1\",\"Erg\",\"Smad6\",\"Runx1\",\"Eto2\"],\n",
    "    \"Pu.1\" : [\"Pu.1\",\"Runx1\",\"Gata1\"],\n",
    "    \"Runx1\" : [\"Runx1\",\"Pu.1\",\"Erg\"],\n",
    "    \"Smad6\" : [\"Runx1\"],\n",
    "    \"Eto2\" : [\"Erg\"],\n",
    "    \"Gata1\" : [\"Gata1\",\"Scl\",\"Pu.1\",\"Gata2\"],\n",
    "    \"Fli1\" : [\"Fli1\",\"Runx1\",\"Pu.1\",\"Scl\",\"Gata2\",\"Hhex\",\"Erg\",\"Smad6\"],\n",
    "    \"Erg\" : [\"Smad6\",\"Runx1\",\"Erg\",\"Hhex\",\"Gata2\",\"Fli1\"],\n",
    "    \"Zfpm1\" : [\"Gata2\"],\n",
    "    \"Gata2\" : [\"Zfpm1\",\"Runx1\",\"Smad6\",\"Eto2\",\"Scl\",\"Gata2\",\"Hhex\",\"Fli1\",\"Erg\"],\n",
    "    \"Hhex\" : [\"Gata2\"]\n",
    "}\n",
    "```\n",
    "\n",
    "Each key is a transcription factor and each value is a `list` of target genes.\n",
    "\n",
    "Write a function `common_targets` that accepts three arguments: a TF-Target dictionary, and two TF names. The function should return a list with all the targets that are shared between the two TFs. The target list should be alphabetically ordered. When there are no common targets the function should return an empty `list`. With the network above, the following code:\n",
    "\n",
    "```python\n",
    "print(common_targets(hsc_network, \"Scl\", \"Gata2\"))\n",
    "print(common_targets(hsc_network, \"Smad6\", \"Eto2\"))\n",
    "print(common_targets(hsc_network, \"Zfpm1\", \"Hhex\"))\n",
    "```\n",
    "\n",
    "Should result in:\n",
    "    \n",
    "```python\n",
    "['Erg', 'Eto2', 'Fli1', 'Gata2', 'Hhex', 'Runx1', 'Scl', 'Smad6', 'Zfpm1']\n",
    "[]\n",
    "['Gata2']\n",
    "```"
   ]
  },
  {
   "cell_type": "code",
   "execution_count": null,
   "metadata": {
    "deletable": false,
    "nbgrader": {
     "cell_type": "code",
     "checksum": "8bd8b6653d8d53cdca3f73d81b0e1a27",
     "grade": false,
     "grade_id": "cell-f0a5d1865f918734",
     "locked": false,
     "schema_version": 3,
     "solution": true,
     "task": false
    }
   },
   "outputs": [],
   "source": [
    "# Write your function here\n",
    "\n",
    "# YOUR CODE HERE\n",
    "raise NotImplementedError()"
   ]
  },
  {
   "cell_type": "code",
   "execution_count": null,
   "metadata": {
    "deletable": false,
    "editable": false,
    "nbgrader": {
     "cell_type": "code",
     "checksum": "8209c50eb18f1bbf1515479908525c75",
     "grade": true,
     "grade_id": "cell-bba682499f9c28b6",
     "locked": true,
     "points": 2,
     "schema_version": 3,
     "solution": false,
     "task": false
    }
   },
   "outputs": [],
   "source": [
    "test_network = {\n",
    "    \"Scl\" : [\"Scl\",\"Gata1\",\"Gata2\",\"Hhex\",\"Zfpm1\",\"Fli1\",\"Erg\",\"Smad6\",\"Runx1\",\"Eto2\"],\n",
    "    \"Pu.1\" : [\"Pu.1\",\"Runx1\",\"Gata1\"],\n",
    "    \"Runx1\" : [\"Runx1\",\"Pu.1\",\"Erg\"],\n",
    "    \"Smad6\" : [\"Runx1\"],\n",
    "    \"Eto2\" : [\"Erg\"],\n",
    "    \"Gata1\" : [\"Gata1\",\"Scl\",\"Pu.1\",\"Gata2\"],\n",
    "    \"Fli1\" : [\"Fli1\",\"Runx1\",\"Pu.1\",\"Scl\",\"Gata2\",\"Hhex\",\"Erg\",\"Smad6\"],\n",
    "    \"Erg\" : [\"Smad6\",\"Runx1\",\"Erg\",\"Hhex\",\"Gata2\",\"Fli1\"],\n",
    "    \"Zfpm1\" : [\"Gata2\"],\n",
    "    \"Gata2\" : [\"Zfpm1\",\"Runx1\",\"Smad6\",\"Eto2\",\"Scl\",\"Gata2\",\"Hhex\",\"Fli1\",\"Erg\"],\n",
    "    \"Hhex\" : [\"Gata2\"]\n",
    "}\n",
    "\n",
    "assert common_targets(test_network, \"Scl\", \"Gata2\") == ['Erg', 'Eto2', 'Fli1', 'Gata2', 'Hhex', 'Runx1', 'Scl', 'Smad6', 'Zfpm1']\n",
    "assert common_targets(test_network, \"Smad6\", \"Eto2\") == []\n",
    "assert common_targets(test_network, \"Zfpm1\", \"Hhex\") == ['Gata2']"
   ]
  },
  {
   "cell_type": "code",
   "execution_count": null,
   "metadata": {
    "deletable": false,
    "editable": false,
    "nbgrader": {
     "cell_type": "code",
     "checksum": "022b6ce5b570f23a2ff8b41e8aa4e2b0",
     "grade": true,
     "grade_id": "cell-a731c6d4287a607b",
     "locked": true,
     "points": 8,
     "schema_version": 3,
     "solution": false,
     "task": false
    }
   },
   "outputs": [],
   "source": [
    "# Hidden tests\n"
   ]
  },
  {
   "cell_type": "code",
   "execution_count": null,
   "metadata": {},
   "outputs": [],
   "source": []
  }
 ],
 "metadata": {
  "kernelspec": {
   "display_name": "Python 3",
   "language": "python",
   "name": "python3"
  },
  "language_info": {
   "codemirror_mode": {
    "name": "ipython",
    "version": 3
   },
   "file_extension": ".py",
   "mimetype": "text/x-python",
   "name": "python",
   "nbconvert_exporter": "python",
   "pygments_lexer": "ipython3",
   "version": "3.8.5"
  }
 },
 "nbformat": 4,
 "nbformat_minor": 4
}
