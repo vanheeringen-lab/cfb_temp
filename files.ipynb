{
 "cells": [
  {
   "cell_type": "markdown",
   "metadata": {},
   "source": [
    "## Exercises: files\n",
    "\n",
    "**Exercise 8.1**\n",
    "\n",
    "In this exercise you are going to analyze data from ChIP-seq of several transcription factors in mouse embryonic stem cells ([Chen et al. 2008, 13;133(6):1106-17, PMID 18555785](https://pubmed.ncbi.nlm.nih.gov/18555785/)). Please have a look at Figure 1 and 2 of this paper. Figure 1 shows the ChIP-seq profiles for the transcription factors.\n",
    "\n",
    "The ChIP-seq peaks that you see represent *in vivo* binding sites of these transcription factors. In Figure 2 the authors have analyzed the DNA sequence underneath these peaks, and identified specific DNA sequences (**motifs**) for each transcription factor. \n",
    "\n",
    "You are going to analyze these sequences as well, to see which motifs you can identify. You will count **k-mers** (short sequences, e.g. 8 bases in length) in the sequences underneath the ChIP-seq peaks of a specific transcription factor, and analyze which k-mers are overrepresented.\n",
    "\n",
    "DNA (or amino acid) sequence files are usually in FASTA format. Check out https://en.wikipedia.org/wiki/FASTA_format for a FASTA description and an example. Just read the first part.\n",
    "\n",
    "Before you start off using the FASTA files from the study mentioned above, you will work on a file called `testfile.fasta` (present in `/scratch/cfb/list-dict-loop`), which is a small FASTA file. This allows you to make and test your code quicker.\n",
    "\n",
    "1. Provide the Python code that allows you to read the FASTA file while ignoring the description lines containing `>`. For now it is OK to print the output. \n",
    "\n",
    "2. Extend your code with the following: For each sequence, extract all possible k-mers of length 4. Skip sequences that are shorter than 4 bases. Print the output. Make sure your code allows you to easily run the same analysis with different k-mer lengths.\n",
    "\n",
    "3. Extend your code with the following: Count the number of occurrences for each k-mer that is encountered (in all sequences together).\n",
    "\n",
    "4. Extend your code with the following: Write the top 10 most abundant k-mer sequences to an output file, along with the number of times they occur.\n",
    "\n",
    "5. Now that you have assembled your code (you can remove the printing statements you used for testing) adapt your code to count kmers of **length 8**. Run your code on 2 files present in the `/scratch/cfb/list-dict-loop` directory:\n",
    "\n",
    "  * `GSM288346_ES_Oct4_mm9.peaks.fasta`\n",
    "  * `GSM288356_ES_c-Myc_mm9.peaks.fasta`\n",
    "  * `GSM288353_ES_Stat3_mm9.peaks.fasta`\n",
    "  * `GSM288354_ES_Klf4_mm9.peaks.fasta`\n",
    "\n",
    "For the top most occurring 8-mers that you obtained for each file, do these resemble the motifs for the corresponding transcription factors as displayed in Figure 2 of the paper?\n",
    "\n",
    "6. Write a function called `top_kmers()`. The function should have three arguments: `fname`, `k`, `n_top`. The `fname` represents the FASTA filename, `k` the length of the k-mer and `n_top` the number of most abundant k-mers to return. The function should not print the k-mers, but return them as a list. The `k` and `n_top` arguments should be *optional*, with default values of 8 and 10, respectively.\n"
   ]
  },
  {
   "cell_type": "code",
   "execution_count": null,
   "metadata": {},
   "outputs": [],
   "source": []
  },
  {
   "cell_type": "markdown",
   "metadata": {},
   "source": [
    "**Exercise 8.2: FASTA files**\n",
    "\n",
    "The [FASTA format](https://en.wikipedia.org/wiki/FASTA_format) is a widely used text format to represent nucleotide or peptide sequences.\n",
    "Write a function `read_fasta` that reads a multiple sequence FASTA file.\n",
    "The function should take the file name as an argument and return a dictionary\n",
    "with the sequence identifier as key and the actual sequence as value. Note that the `>` symbol is not part of the sequence identifier.\n",
    "Create files for all your test cases.\n",
    "You can create text files from the jupyter window (`New` -> `Text File`) or use the `Upload` button to upload files you created locally."
   ]
  },
  {
   "cell_type": "code",
   "execution_count": null,
   "metadata": {},
   "outputs": [],
   "source": []
  },
  {
   "cell_type": "markdown",
   "metadata": {},
   "source": [
    "**Exercise 8.3: convert gene annotation file**\n",
    "    \n",
    "The file `/scratch/cfb/files/genes.txt` contains gene annotation. Each line represents one gene. The file is\n",
    "tab-separated and contains the following columns:\n",
    "\n",
    "```\n",
    "1 - chromosome\n",
    "2 - gene start\n",
    "3 - gene end\n",
    "4 - strand\n",
    "5 - gene name\n",
    "6 - number of exons\n",
    "7 - a comma-separated list of exon sizes\n",
    "8 - a comma-separated list of exon starts, relative to the gene start\n",
    "```\n",
    "\n",
    "Write a function called `gene2exons` that reads the gene annotation from this file and converts it to a file with exon information. The function should accept two arguments, the `input_file` and the `output_file`. The output should be tab-separated and will contain 5 columns:\n",
    "\n",
    "```   \n",
    "1 - chromosome\n",
    "2 - exon start\n",
    "3 - exon end\n",
    "4 - exon name: gene name followed by a . and the exon number\n",
    "5 - strand\n",
    "```\n",
    "\n",
    "For instance, for the gene SALL4 the output should look like this:\n",
    "\n",
    "```\n",
    "chr20 51782330 51784684 SALL4.1 -\n",
    "chr20 51788860 51789141 SALL4.2 -\n",
    "chr20 51790021 51792352 SALL4.3 -\n",
    "chr20 51802278 51802520 SALL4.4 -\n",
    "```\n",
    "\n",
    "The gene SALL4 has four exons, which are numbered from 1 to 4. Exon numbers are not dependent on the\n",
    "strand, they are numbered from low start position to high start position."
   ]
  },
  {
   "cell_type": "code",
   "execution_count": null,
   "metadata": {},
   "outputs": [],
   "source": []
  }
 ],
 "metadata": {
  "kernelspec": {
   "display_name": "Python 3",
   "language": "python",
   "name": "python3"
  },
  "language_info": {
   "codemirror_mode": {
    "name": "ipython",
    "version": 3
   },
   "file_extension": ".py",
   "mimetype": "text/x-python",
   "name": "python",
   "nbconvert_exporter": "python",
   "pygments_lexer": "ipython3",
   "version": "3.7.3"
  }
 },
 "nbformat": 4,
 "nbformat_minor": 4
}
